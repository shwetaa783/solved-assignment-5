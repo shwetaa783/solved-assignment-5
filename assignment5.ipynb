{
 "cells": [
  {
   "cell_type": "code",
   "execution_count": 1,
   "id": "9d6d554d-bcb8-4fba-b7d7-013c2bc4ff76",
   "metadata": {},
   "outputs": [],
   "source": [
    "#write a program to print numbers from 1 to 10 but stop if the number is 5"
   ]
  },
  {
   "cell_type": "code",
   "execution_count": null,
   "id": "6b2f6466-4c77-41e2-b5dc-6d8aab2f6e04",
   "metadata": {},
   "outputs": [],
   "source": [
    "n=10\n",
    "i=1\n",
    "while i<n:\n",
    "    print(i)\n",
    "    i=i+1\n",
    "    if i==5:\n",
    "        break\n",
    "else:\n",
    "    print('execute this number')\n",
    "    \n",
    "        "
   ]
  },
  {
   "cell_type": "code",
   "execution_count": null,
   "id": "45283658-b5d1-44fe-8009-544b663c9a7e",
   "metadata": {},
   "outputs": [],
   "source": [
    "#write a program to iterate a list and stop when encountering a specific element"
   ]
  },
  {
   "cell_type": "code",
   "execution_count": null,
   "id": "728c4442-630b-4062-83a3-54b1d34518d3",
   "metadata": {},
   "outputs": [],
   "source": [
    "l=['shweta','ajay','ram']\n",
    "for i in l:\n",
    "    if i=='ram':\n",
    "        break\n",
    "    print(i)\n",
    "else:\n",
    "    print('no')\n",
    "   \n",
    "   "
   ]
  },
  {
   "cell_type": "code",
   "execution_count": 11,
   "id": "f23c4a19-3d6f-45c7-9f84-80788fc04c6d",
   "metadata": {},
   "outputs": [],
   "source": [
    "#write a program to skip printing even number from 1 to 10"
   ]
  },
  {
   "cell_type": "code",
   "execution_count": 1,
   "id": "db42250f-8c56-4f65-b74d-aa575e07f817",
   "metadata": {},
   "outputs": [
    {
     "name": "stdout",
     "output_type": "stream",
     "text": [
      "1\n",
      "3\n",
      "5\n",
      "7\n",
      "9\n"
     ]
    }
   ],
   "source": [
    "for i in range(1,10):\n",
    "    if i % 2==0:\n",
    "        continue\n",
    "    print(i)\n",
    "    \n",
    "    "
   ]
  },
  {
   "cell_type": "code",
   "execution_count": 3,
   "id": "5f87514c-06ec-4f54-b83a-373c7a1d68f0",
   "metadata": {},
   "outputs": [],
   "source": [
    "#write a program to print numbers from 0 to 9 using range()"
   ]
  },
  {
   "cell_type": "code",
   "execution_count": 2,
   "id": "35330440-1f5d-434e-bde8-967b3f8eb3f0",
   "metadata": {},
   "outputs": [
    {
     "name": "stdout",
     "output_type": "stream",
     "text": [
      "0\n",
      "1\n",
      "2\n",
      "3\n",
      "4\n",
      "5\n",
      "6\n",
      "7\n",
      "8\n"
     ]
    }
   ],
   "source": [
    "for i in range(0,9):\n",
    "    print(i)"
   ]
  },
  {
   "cell_type": "code",
   "execution_count": 5,
   "id": "ae8664e5-b491-4743-934c-79d779dc9bd3",
   "metadata": {},
   "outputs": [],
   "source": [
    "#write a program to print multiplication tbles from 1 to 5 but stop after the first table is printed for each numbers"
   ]
  },
  {
   "cell_type": "code",
   "execution_count": 1,
   "id": "9fa4af81-0550-43fa-9231-8608f820c485",
   "metadata": {},
   "outputs": [],
   "source": [
    "for i in range(1,5):\n",
    "    if i*2==0:\n",
    "        print(i)\n"
   ]
  },
  {
   "cell_type": "code",
   "execution_count": 2,
   "id": "f3d0adeb-ccb0-4eac-88e5-374a7ea1ae83",
   "metadata": {},
   "outputs": [],
   "source": [
    "#write a program to skip printing even no using a while loop"
   ]
  },
  {
   "cell_type": "code",
   "execution_count": null,
   "id": "00a0ce76-4246-430f-abd3-7d4aaac06db8",
   "metadata": {},
   "outputs": [],
   "source": [
    "i=1\n",
    "while i<=50:\n",
    "    if i %2==0:\n",
    "        i=i+1\n",
    "        print(i)"
   ]
  },
  {
   "cell_type": "code",
   "execution_count": null,
   "id": "ff5aa263-43d0-4773-9fb8-b9eb63fb74ff",
   "metadata": {},
   "outputs": [],
   "source": []
  }
 ],
 "metadata": {
  "kernelspec": {
   "display_name": "Python 3 (ipykernel)",
   "language": "python",
   "name": "python3"
  },
  "language_info": {
   "codemirror_mode": {
    "name": "ipython",
    "version": 3
   },
   "file_extension": ".py",
   "mimetype": "text/x-python",
   "name": "python",
   "nbconvert_exporter": "python",
   "pygments_lexer": "ipython3",
   "version": "3.10.8"
  }
 },
 "nbformat": 4,
 "nbformat_minor": 5
}
